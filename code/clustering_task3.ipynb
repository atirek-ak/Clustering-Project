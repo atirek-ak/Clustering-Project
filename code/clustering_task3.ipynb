{
  "nbformat": 4,
  "nbformat_minor": 0,
  "metadata": {
    "colab": {
      "name": "clustering-task3.ipynb",
      "provenance": [],
      "collapsed_sections": []
    },
    "kernelspec": {
      "name": "python3",
      "display_name": "Python 3"
    }
  },
  "cells": [
    {
      "cell_type": "code",
      "metadata": {
        "id": "1CMVyCFcXsgc"
      },
      "source": [
        "import pandas as pd\n",
        "import numpy as np"
      ],
      "execution_count": 24,
      "outputs": []
    },
    {
      "cell_type": "code",
      "metadata": {
        "id": "JXcuTDtxXzG9",
        "outputId": "8adefae9-38ed-4891-939c-ca249151cdf2",
        "colab": {
          "base_uri": "https://localhost:8080/",
          "height": 35
        }
      },
      "source": [
        "file_data = pd.read_csv(\"football_data.csv\",encoding='latin1')\n",
        "file_data.shape"
      ],
      "execution_count": 25,
      "outputs": [
        {
          "output_type": "execute_result",
          "data": {
            "text/plain": [
              "(18207, 89)"
            ]
          },
          "metadata": {
            "tags": []
          },
          "execution_count": 25
        }
      ]
    },
    {
      "cell_type": "code",
      "metadata": {
        "id": "L2yeF8HiX0Z9",
        "outputId": "f5905977-afb3-40f1-b805-8f2e21d07bfb",
        "colab": {
          "base_uri": "https://localhost:8080/",
          "height": 35
        }
      },
      "source": [
        "# removing rows with wrong placement of data and empty entries\n",
        "indexes = []\n",
        "for index,rows in file_data.iterrows():\n",
        "  if rows['Club Logo'][:5] != 'https' or rows['LS'] != rows['LS']:\n",
        "    indexes.append(index)\n",
        "print(len(indexes))\n",
        "file_data.drop(file_data.index[indexes],inplace=True)\n",
        "file_data.reset_index(drop=True, inplace=True)\n",
        "file_data_copy = file_data\n",
        "# print(file_data)\n",
        "# file_data.shape"
      ],
      "execution_count": 26,
      "outputs": [
        {
          "output_type": "stream",
          "text": [
            "2085\n"
          ],
          "name": "stdout"
        }
      ]
    },
    {
      "cell_type": "code",
      "metadata": {
        "id": "vNtXdoorX16g"
      },
      "source": [
        "#select columns which are useful numerical values\n",
        "positions = ['LS','ST','RS','LW','LF','CF','RF','RW','LAM','CAM','RAM','LM','LCM','CM','RCM','RM','LWB',\n",
        "             'LDM','CDM','RDM','RWB','LB','LCB','CB','RCB','RB']\n",
        "useful = ['Name','Age','Overall','Potential','Value','Wage','Special','International Reputation','Skill Moves',\n",
        "          'Height','Weight','Crossing','Finishing','HeadingAccuracy','ShortPassing','Volleys','Dribbling','Curve',\n",
        "          'FKAccuracy','LongPassing','BallControl','Acceleration','SprintSpeed','Agility','Reactions','Balance',\n",
        "          'ShotPower','Jumping','Stamina','Strength','LongShots','Aggression','Interceptions','Positioning',\n",
        "          'Vision','Penalties','Composure','Marking','StandingTackle','SlidingTackle','GKDiving','GKHandling',\n",
        "          'GKKicking','GKPositioning','GKReflexes']\n",
        "useful.extend(positions)\n",
        "# print(positions)\n",
        "file_data = file_data[useful]"
      ],
      "execution_count": 27,
      "outputs": []
    },
    {
      "cell_type": "code",
      "metadata": {
        "id": "l8bbjuQWY1r4",
        "outputId": "44925aa9-74a2-4d58-d879-dd8a1f0737b3",
        "colab": {
          "base_uri": "https://localhost:8080/",
          "height": 214
        }
      },
      "source": [
        "import re\n",
        "def modifyValue(val):\n",
        "  if val != val:\n",
        "    return 0\n",
        "  if type(val) == str:\n",
        "    val = re.sub('[^A-Z0-9\\.]', '', val)\n",
        "    # val = val[7:]\n",
        "    last = val[-1]\n",
        "    if last not in ['K','M']:\n",
        "      return 0\n",
        "    val = val[:-1]\n",
        "    val = float(val)\n",
        "    val *=1000\n",
        "    if last == 'M':\n",
        "      val *= 1000\n",
        "    return val\n",
        "  return val \n",
        "\n",
        "file_data['Value'] = file_data['Value'].apply(modifyValue)\n",
        "# print(file_data['Value']) \n",
        "file_data['Wage'] = file_data['Wage'].apply(modifyValue)  \n",
        "# print(file_data['Wage'])"
      ],
      "execution_count": 28,
      "outputs": [
        {
          "output_type": "stream",
          "text": [
            "/usr/local/lib/python3.6/dist-packages/ipykernel_launcher.py:19: SettingWithCopyWarning: \n",
            "A value is trying to be set on a copy of a slice from a DataFrame.\n",
            "Try using .loc[row_indexer,col_indexer] = value instead\n",
            "\n",
            "See the caveats in the documentation: https://pandas.pydata.org/pandas-docs/stable/user_guide/indexing.html#returning-a-view-versus-a-copy\n",
            "/usr/local/lib/python3.6/dist-packages/ipykernel_launcher.py:21: SettingWithCopyWarning: \n",
            "A value is trying to be set on a copy of a slice from a DataFrame.\n",
            "Try using .loc[row_indexer,col_indexer] = value instead\n",
            "\n",
            "See the caveats in the documentation: https://pandas.pydata.org/pandas-docs/stable/user_guide/indexing.html#returning-a-view-versus-a-copy\n"
          ],
          "name": "stderr"
        }
      ]
    },
    {
      "cell_type": "code",
      "metadata": {
        "id": "Hn5n8rVkY3_c",
        "outputId": "ceb59fb0-1c62-47fd-cbb4-861489ed670f",
        "colab": {
          "base_uri": "https://localhost:8080/",
          "height": 143
        }
      },
      "source": [
        "def modifyHeight(val):\n",
        "  # print(val)\n",
        "  val = val.split('\\'')\n",
        "  val = float(val[0])*12 + float(val[1])\n",
        "  return val\n",
        "\n",
        "file_data['Height'] = file_data['Height'].apply(modifyHeight)\n",
        "# print(file_data['Height']) "
      ],
      "execution_count": 29,
      "outputs": [
        {
          "output_type": "stream",
          "text": [
            "/usr/local/lib/python3.6/dist-packages/ipykernel_launcher.py:7: SettingWithCopyWarning: \n",
            "A value is trying to be set on a copy of a slice from a DataFrame.\n",
            "Try using .loc[row_indexer,col_indexer] = value instead\n",
            "\n",
            "See the caveats in the documentation: https://pandas.pydata.org/pandas-docs/stable/user_guide/indexing.html#returning-a-view-versus-a-copy\n",
            "  import sys\n"
          ],
          "name": "stderr"
        }
      ]
    },
    {
      "cell_type": "code",
      "metadata": {
        "id": "c7Wmyz57Y6ED",
        "outputId": "65426fca-7428-4114-d0e6-5e2e435b46af",
        "colab": {
          "base_uri": "https://localhost:8080/",
          "height": 143
        }
      },
      "source": [
        "def modifyWeight(weight):\n",
        "  if type(weight) == str:\n",
        "    weight = weight.replace('lbs','')\n",
        "    return float(weight)\n",
        "\n",
        "file_data['Weight'] = file_data['Weight'].apply(modifyWeight)\n",
        "# print(file_data['Weight'])"
      ],
      "execution_count": 30,
      "outputs": [
        {
          "output_type": "stream",
          "text": [
            "/usr/local/lib/python3.6/dist-packages/ipykernel_launcher.py:6: SettingWithCopyWarning: \n",
            "A value is trying to be set on a copy of a slice from a DataFrame.\n",
            "Try using .loc[row_indexer,col_indexer] = value instead\n",
            "\n",
            "See the caveats in the documentation: https://pandas.pydata.org/pandas-docs/stable/user_guide/indexing.html#returning-a-view-versus-a-copy\n",
            "  \n"
          ],
          "name": "stderr"
        }
      ]
    },
    {
      "cell_type": "code",
      "metadata": {
        "id": "tSDFhieSY8D6",
        "outputId": "80ec3eae-1c6b-46d4-db97-c27cda161d9b",
        "colab": {
          "base_uri": "https://localhost:8080/",
          "height": 143
        }
      },
      "source": [
        "def position(val):\n",
        "  # print(val)\n",
        "  val = val.split('+')\n",
        "  val = float(val[0]) + float(val[1])\n",
        "  return val\n",
        "\n",
        "for pos in positions:\n",
        "  file_data[pos] = file_data[pos].apply(position)\n",
        "# print(file_data['LS']) "
      ],
      "execution_count": 31,
      "outputs": [
        {
          "output_type": "stream",
          "text": [
            "/usr/local/lib/python3.6/dist-packages/ipykernel_launcher.py:8: SettingWithCopyWarning: \n",
            "A value is trying to be set on a copy of a slice from a DataFrame.\n",
            "Try using .loc[row_indexer,col_indexer] = value instead\n",
            "\n",
            "See the caveats in the documentation: https://pandas.pydata.org/pandas-docs/stable/user_guide/indexing.html#returning-a-view-versus-a-copy\n",
            "  \n"
          ],
          "name": "stderr"
        }
      ]
    },
    {
      "cell_type": "code",
      "metadata": {
        "id": "NfCCIjZQe_uC"
      },
      "source": [
        "from sklearn.preprocessing import StandardScaler\n",
        "file_data = file_data[['Finishing', 'Value']]\n",
        "X = file_data.values\n",
        "X = StandardScaler().fit_transform(X)"
      ],
      "execution_count": 32,
      "outputs": []
    },
    {
      "cell_type": "code",
      "metadata": {
        "id": "eqYcIuXFfBR-"
      },
      "source": [
        "from sklearn.decomposition import PCA\n",
        "\n",
        "pca = PCA(n_components=2)\n",
        "principalComponents = pca.fit_transform(X)\n",
        "principalDf = pd.DataFrame(data = principalComponents\n",
        "             , columns = ['principal component 1', 'principal component 2'])\n",
        "\n",
        "X = StandardScaler().fit_transform(principalDf)"
      ],
      "execution_count": 33,
      "outputs": []
    },
    {
      "cell_type": "code",
      "metadata": {
        "id": "7lzzUM_KY-Pf"
      },
      "source": [
        "from matplotlib import pyplot as plt\n",
        "from sklearn.cluster import AgglomerativeClustering\n",
        "import scipy.cluster.hierarchy as sch"
      ],
      "execution_count": 34,
      "outputs": []
    },
    {
      "cell_type": "code",
      "metadata": {
        "id": "zqA5Tol1deiU"
      },
      "source": [
        "# dendrogram = sch.dendrogram(sch.linkage(X, method='ward'))"
      ],
      "execution_count": 35,
      "outputs": []
    },
    {
      "cell_type": "code",
      "metadata": {
        "id": "cVEiBS-2eWjQ",
        "outputId": "c18f2834-87ca-48f5-96cc-a08aa346d491",
        "colab": {
          "base_uri": "https://localhost:8080/",
          "height": 370
        }
      },
      "source": [
        "model = AgglomerativeClustering(n_clusters=3, affinity='euclidean', linkage='ward')\n",
        "model.fit_predict(X)\n",
        "labels = model.labels_\n",
        "# print(max(labels))\n",
        "name = file_data_copy['Name']\n",
        "# print(name)\n",
        "value = file_data_copy['Value']\n",
        "finish = file_data_copy['Finishing']\n",
        "for i in range(20):\n",
        "    print(labels[i],name[i],value[i],finish[i])"
      ],
      "execution_count": 36,
      "outputs": [
        {
          "output_type": "stream",
          "text": [
            "1 L. Messi â¬110.5M 95.0\n",
            "1 Cristiano Ronaldo â¬77M 94.0\n",
            "1 Neymar Jr â¬118.5M 87.0\n",
            "1 K. De Bruyne â¬102M 82.0\n",
            "1 E. Hazard â¬93M 84.0\n",
            "1 L. ModriÄ â¬67M 72.0\n",
            "1 L. SuÃ¡rez â¬80M 93.0\n",
            "1 Sergio Ramos â¬51M 60.0\n",
            "1 R. Lewandowski â¬77M 91.0\n",
            "1 T. Kroos â¬76.5M 76.0\n",
            "1 D. GodÃ­n â¬44M 42.0\n",
            "1 David Silva â¬60M 76.0\n",
            "1 N. KantÃ© â¬63M 65.0\n",
            "1 P. Dybala â¬89M 84.0\n",
            "1 H. Kane â¬83.5M 94.0\n",
            "1 A. Griezmann â¬78M 90.0\n",
            "1 Sergio Busquets â¬51.5M 67.0\n",
            "1 E. Cavani â¬60M 89.0\n",
            "1 S. AgÃ¼ero â¬64.5M 93.0\n",
            "1 G. Chiellini â¬27M 33.0\n"
          ],
          "name": "stdout"
        }
      ]
    },
    {
      "cell_type": "code",
      "metadata": {
        "id": "TmOjFN4Cdp5B",
        "outputId": "215a42b1-db8e-4cbf-f571-815560f8c783",
        "colab": {
          "base_uri": "https://localhost:8080/",
          "height": 265
        }
      },
      "source": [
        "plt.scatter(X[labels==0, 0], X[labels==0, 1], s=15, marker='o', color='green')\n",
        "plt.scatter(X[labels==1, 0], X[labels==1, 1], s=15, marker='o', color='red')\n",
        "plt.scatter(X[labels==2, 0], X[labels==2, 1], s=15, marker='o', color='cyan')\n",
        "plt.show()"
      ],
      "execution_count": 41,
      "outputs": [
        {
          "output_type": "display_data",
          "data": {
            "image/png": "[encoded data removed]",
            "text/plain": [
              "<Figure size 432x288 with 1 Axes>"
            ]
          },
          "metadata": {
            "tags": [],
            "needs_background": "light"
          }
        }
      ]
    },
    {
      "cell_type": "code",
      "metadata": {
        "id": "M4pJNkBNe0qr"
      },
      "source": [
        ""
      ],
      "execution_count": 37,
      "outputs": []
    }
  ]
}